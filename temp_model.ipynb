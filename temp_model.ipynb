{
  "nbformat": 4,
  "nbformat_minor": 0,
  "metadata": {
    "colab": {
      "provenance": [],
      "include_colab_link": true
    },
    "kernelspec": {
      "name": "python3",
      "display_name": "Python 3"
    },
    "language_info": {
      "name": "python"
    }
  },
  "cells": [
    {
      "cell_type": "markdown",
      "metadata": {
        "id": "view-in-github",
        "colab_type": "text"
      },
      "source": [
        "<a href=\"https://colab.research.google.com/github/Siddharthareddy25/IoT-Based-Environmental-Monitoring-System-/blob/main/temp_model.ipynb\" target=\"_parent\"><img src=\"https://colab.research.google.com/assets/colab-badge.svg\" alt=\"Open In Colab\"/></a>"
      ]
    },
    {
      "cell_type": "code",
      "source": [
        "\n",
        "import pandas as pd\n",
        "import numpy as np\n",
        "from sklearn.preprocessing import MinMaxScaler\n",
        "from tensorflow.keras.models import Sequential\n",
        "from tensorflow.keras.layers import Dense, LSTM, Input\n",
        "from sklearn.ensemble import RandomForestRegressor\n",
        "import warnings\n",
        "\n",
        "warnings.filterwarnings(\"ignore\")\n",
        "\n",
        "df = pd.read_csv('temp_data.csv', encoding='latin1')\n",
        "\n",
        "df['time'] = pd.to_datetime(df['time'])\n",
        "df['hour'] = df['time'].dt.hour\n",
        "\n",
        "df = df[['temperature_2m (°C)', 'relative_humidity_2m (%)', 'hour', 'precipitation_probability (%)']]\n",
        "\n",
        "scaler_temp = MinMaxScaler()\n",
        "scaler_hum = MinMaxScaler()\n",
        "df[['temperature_2m (°C)']] = scaler_temp.fit_transform(df[['temperature_2m (°C)']])\n",
        "df[['relative_humidity_2m (%)']] = scaler_hum.fit_transform(df[['relative_humidity_2m (%)']])\n",
        "\n",
        "def create_sequences(data, n_steps):\n",
        "    X, y = [], []\n",
        "    for i in range(len(data) - n_steps):\n",
        "        X.append(data[i:i+n_steps])\n",
        "        y.append(data[i+n_steps])\n",
        "    return np.array(X), np.array(y)\n",
        "\n",
        "n_steps = 24\n",
        "\n",
        "temp_series = df['temperature_2m (°C)'].values\n",
        "X_temp, y_temp = create_sequences(temp_series, n_steps)\n",
        "X_temp = X_temp.reshape((X_temp.shape[0], X_temp.shape[1], 1))\n",
        "\n",
        "model_temp = Sequential([\n",
        "    Input(shape=(n_steps, 1)),\n",
        "    LSTM(50, activation='relu'),\n",
        "    Dense(1)\n",
        "])\n",
        "model_temp.compile(optimizer='adam', loss='mse')\n",
        "model_temp.fit(X_temp, y_temp, epochs=20, verbose=0)\n",
        "\n",
        "hum_series = df['relative_humidity_2m (%)'].values\n",
        "X_hum, y_hum = create_sequences(hum_series, n_steps)\n",
        "X_hum = X_hum.reshape((X_hum.shape[0], X_hum.shape[1], 1))\n",
        "\n",
        "model_hum = Sequential([\n",
        "    Input(shape=(n_steps, 1)),\n",
        "    LSTM(50, activation='relu'),\n",
        "    Dense(1)\n",
        "])\n",
        "model_hum.compile(optimizer='adam', loss='mse')\n",
        "model_hum.fit(X_hum, y_hum, epochs=20, verbose=0)\n",
        "\n",
        "df_precip = df.dropna()\n",
        "X_precip = df_precip[['temperature_2m (°C)', 'relative_humidity_2m (%)', 'hour']]\n",
        "y_precip = df_precip['precipitation_probability (%)']\n",
        "precip_model = RandomForestRegressor(n_estimators=100, random_state=42)\n",
        "precip_model.fit(X_precip, y_precip)\n",
        "print(\"Precipitation model trained successfully.\")\n",
        "\n",
        "present_temp = float(input(\"Enter the current temperature (°C): \"))\n",
        "present_hum = float(input(\"Enter the current humidity (%): \"))\n",
        "present_hour = int(input(\"Enter the current hour (0-23): \"))\n",
        "\n",
        "present_temp_df = pd.DataFrame([[present_temp]], columns=['temperature_2m (°C)'])\n",
        "present_hum_df = pd.DataFrame([[present_hum]], columns=['relative_humidity_2m (%)'])\n",
        "scaled_present_temp = scaler_temp.transform(present_temp_df)[0][0]\n",
        "scaled_present_hum = scaler_hum.transform(present_hum_df)[0][0]\n",
        "\n",
        "last_temp_seq = temp_series[-(n_steps-1):].tolist()\n",
        "last_temp_seq.append(scaled_present_temp)\n",
        "last_temp_seq = np.array(last_temp_seq).reshape((1, n_steps, 1))\n",
        "\n",
        "last_hum_seq = hum_series[-(n_steps-1):].tolist()\n",
        "last_hum_seq.append(scaled_present_hum)\n",
        "last_hum_seq = np.array(last_hum_seq).reshape((1, n_steps, 1))\n",
        "\n",
        "pred_temp = model_temp.predict(last_temp_seq, verbose=0)\n",
        "pred_temp_real = scaler_temp.inverse_transform([[pred_temp[0][0]]])[0][0]\n",
        "\n",
        "pred_hum = model_hum.predict(last_hum_seq, verbose=0)\n",
        "pred_hum_real = scaler_hum.inverse_transform([[pred_hum[0][0]]])[0][0]\n",
        "\n",
        "next_hour = (present_hour + 1) % 24\n",
        "pred_temp_df = pd.DataFrame([[pred_temp_real]], columns=['temperature_2m (°C)'])\n",
        "pred_hum_df = pd.DataFrame([[pred_hum_real]], columns=['relative_humidity_2m (%)'])\n",
        "pred_scaled_temp = scaler_temp.transform(pred_temp_df)[0][0]\n",
        "pred_scaled_hum = scaler_hum.transform(pred_hum_df)[0][0]\n",
        "\n",
        "input_data = pd.DataFrame([[pred_scaled_temp, pred_scaled_hum, next_hour]],\n",
        "                          columns=['temperature_2m (°C)', 'relative_humidity_2m (%)', 'hour'])\n",
        "\n",
        "pred_precip = precip_model.predict(input_data)[0]\n",
        "\n",
        "print(f\"Predicted temperature 1 hour later: {pred_temp_real:.2f} °C\")\n",
        "print(f\"Predicted humidity 1 hour later: {pred_hum_real:.2f} %\")\n",
        "print(f\"Predicted precipitation probability: {pred_precip:.2f} %\")"
      ],
      "metadata": {
        "colab": {
          "base_uri": "https://localhost:8080/"
        },
        "id": "EiMMlRDCoyrv",
        "outputId": "5ddb9bf0-c990-450a-9325-b79aebaf63ec"
      },
      "execution_count": null,
      "outputs": [
        {
          "output_type": "stream",
          "name": "stdout",
          "text": [
            "Precipitation model trained successfully.\n",
            "Enter the current temperature (°C): 35\n",
            "Enter the current humidity (%): 70\n",
            "Enter the current hour (0-23): 13\n",
            "Predicted temperature 1 hour later: 31.84 °C\n",
            "Predicted humidity 1 hour later: 72.05 %\n",
            "Predicted precipitation probability: 7.83 %\n"
          ]
        }
      ]
    }
  ]
}